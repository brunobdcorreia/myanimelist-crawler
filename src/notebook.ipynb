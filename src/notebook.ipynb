{
 "cells": [
  {
   "cell_type": "markdown",
   "metadata": {},
   "source": [
    "# Just trying out stuff"
   ]
  },
  {
   "cell_type": "code",
   "execution_count": 3,
   "metadata": {},
   "outputs": [],
   "source": [
    "import pandas as pd"
   ]
  },
  {
   "cell_type": "code",
   "execution_count": 4,
   "metadata": {},
   "outputs": [
    {
     "name": "stdout",
     "output_type": "stream",
     "text": [
      "<class 'pandas.core.frame.DataFrame'>\n",
      "RangeIndex: 5 entries, 0 to 4\n",
      "Data columns (total 9 columns):\n",
      " #   Column            Non-Null Count  Dtype  \n",
      "---  ------            --------------  -----  \n",
      " 0   Unnamed: 0        5 non-null      int64  \n",
      " 1   Name              5 non-null      object \n",
      " 2   Score             5 non-null      float64\n",
      " 3   Popularity Rank   5 non-null      object \n",
      " 4   Studio            5 non-null      object \n",
      " 5   Num. of episodes  5 non-null      int64  \n",
      " 6   Genres            5 non-null      object \n",
      " 7   Theme(s)          5 non-null      object \n",
      " 8   Demographic       4 non-null      object \n",
      "dtypes: float64(1), int64(2), object(6)\n",
      "memory usage: 488.0+ bytes\n"
     ]
    }
   ],
   "source": [
    "df = pd.read_csv('animes.csv')\n",
    "df.info()"
   ]
  }
 ],
 "metadata": {
  "interpreter": {
   "hash": "b3dc1374a631b60223acedf9938d4e50b9b335c1b638b5d22a7cc0ea74835f06"
  },
  "kernelspec": {
   "display_name": "Python 3.9.5 ('MAL crawler': venv)",
   "language": "python",
   "name": "python3"
  },
  "language_info": {
   "codemirror_mode": {
    "name": "ipython",
    "version": 3
   },
   "file_extension": ".py",
   "mimetype": "text/x-python",
   "name": "python",
   "nbconvert_exporter": "python",
   "pygments_lexer": "ipython3",
   "version": "3.9.5"
  },
  "orig_nbformat": 4
 },
 "nbformat": 4,
 "nbformat_minor": 2
}
